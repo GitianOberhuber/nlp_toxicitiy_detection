{
 "cells": [
  {
   "cell_type": "markdown",
   "metadata": {},
   "source": [
    "# Toxic comment detection using SVM and different vectorization features"
   ]
  },
  {
   "cell_type": "code",
   "execution_count": 1,
   "metadata": {},
   "outputs": [
    {
     "name": "stderr",
     "output_type": "stream",
     "text": [
      "[nltk_data] Downloading package punkt to /home/krise/nltk_data...\n",
      "[nltk_data]   Package punkt is already up-to-date!\n",
      "[nltk_data] Downloading package averaged_perceptron_tagger to\n",
      "[nltk_data]     /home/krise/nltk_data...\n",
      "[nltk_data]   Package averaged_perceptron_tagger is already up-to-\n",
      "[nltk_data]       date!\n",
      "[nltk_data] Downloading package vader_lexicon to\n",
      "[nltk_data]     /home/krise/nltk_data...\n",
      "[nltk_data]   Package vader_lexicon is already up-to-date!\n"
     ]
    },
    {
     "data": {
      "text/plain": [
       "True"
      ]
     },
     "execution_count": 1,
     "metadata": {},
     "output_type": "execute_result"
    }
   ],
   "source": [
    "import re\n",
    "import numpy as np\n",
    "import scipy\n",
    "import scipy.sparse as sp\n",
    "import pandas as pd\n",
    "import pickle\n",
    "from sklearn import svm\n",
    "from sklearn.metrics import roc_auc_score\n",
    "from nltk.sentiment import SentimentIntensityAnalyzer\n",
    "from collections import defaultdict\n",
    "from nltk.tokenize import word_tokenize\n",
    "import nltk\n",
    "import time\n",
    "import matplotlib.pyplot as plt\n",
    "from nltk import ngrams\n",
    "from sklearn.feature_extraction.text import CountVectorizer, TfidfVectorizer\n",
    "\n",
    "nltk.download('punkt')\n",
    "nltk.download('averaged_perceptron_tagger')\n",
    "nltk.download('vader_lexicon')"
   ]
  },
  {
   "cell_type": "markdown",
   "metadata": {},
   "source": [
    "Code based on https://github.com/bmeaut/python_nlp_2018_spring/blob/master/course_material/14_Semantics_II/14_Semantics_2_lab.ipynb"
   ]
  },
  {
   "cell_type": "code",
   "execution_count": 16,
   "metadata": {},
   "outputs": [],
   "source": [
    "#Custom featurizer calss\n",
    "\n",
    "class Featurizer():\n",
    "    sa = SentimentIntensityAnalyzer()\n",
    "    feature_functions = []\n",
    "    \n",
    "    @staticmethod\n",
    "    def bag_of_words(text):\n",
    "        for word in word_tokenize(text):\n",
    "            yield (word, None)\n",
    "\n",
    "    @staticmethod\n",
    "    def pos_tags(text):\n",
    "        word_tag_tuples = nltk.pos_tag(word_tokenize(text))\n",
    "        tag_count_dict = {}\n",
    "        for word_tag_tuple in word_tag_tuples:\n",
    "            if(word_tag_tuple[1] in tag_count_dict.keys()):\n",
    "                tag_count_dict[word_tag_tuple[1]] += 1\n",
    "            else:\n",
    "                tag_count_dict[word_tag_tuple[1]] = 1\n",
    "\n",
    "        for tag in tag_count_dict:\n",
    "            yield (tag, tag_count_dict[tag])\n",
    "\n",
    "    @staticmethod\n",
    "    def vader_sentiment(text):\n",
    "        sentiments = Featurizer.sa.polarity_scores(text)\n",
    "        for key in sentiments:\n",
    "            yield(\"vader \" + key, sentiments[key])\n",
    "\n",
    "    @staticmethod\n",
    "    def word_ngrams(text):\n",
    "        for ngram in ngrams(word_tokenize(text), 2):\n",
    "            yield (\" \".join(ngram), None)\n",
    "\n",
    "    @staticmethod\n",
    "    def pos_ngrams(text):\n",
    "        n = 2\n",
    "        tokens = word_tokenize(text)\n",
    "\n",
    "        l = len(tokens)\n",
    "        word_tag_tuples = nltk.pos_tag(tokens)\n",
    "        for x in range(0, l - n + 1):\n",
    "            pos_ngram = \"\"\n",
    "            for i in range(0, n):\n",
    "                pos_ngram += word_tag_tuples[x + i][1] + \" \"\n",
    "            yield (pos_ngram, None)    \n",
    "\n",
    "    #Either start completely new feature/id dictionaries if only features of this featurizer will be used\n",
    "    #or base dictionary on that of a different featurizer so they can be used together\n",
    "    def __init__(self, foreign_features = None):\n",
    "        if (foreign_features == None): #Will create standalone dictionaries\n",
    "            self.features = {}\n",
    "            self.features_by_id = {}\n",
    "            self.next_feature_id = 0\n",
    "            self.max_foreign_feature = 0\n",
    "        else: #Some other vectorizer will be used in addition to this one\n",
    "            self.features = foreign_features\n",
    "            self.features_by_id = {v: k for k, v in foreign_features.items()}\n",
    "            self.next_feature_id = max(foreign_features.values()) + 1\n",
    "            self.max_foreign_feature = self.next_feature_id\n",
    "\n",
    "    def to_sparse(self, events):\n",
    "        \"\"\"convert sets of ints to a scipy.sparse.csr_matrix\"\"\"\n",
    "        data, row_ind, col_ind = [], [], []\n",
    "        for event_index, event in enumerate(events):\n",
    "            for feature, value in event:\n",
    "                if (value != None):\n",
    "                    data.append(value)\n",
    "                else:\n",
    "                    data.append(1)\n",
    "                    \n",
    "                row_ind.append(event_index)\n",
    "                col_ind.append(feature - self.max_foreign_feature)\n",
    "\n",
    "        n_features = len(self.features.keys()) - self.max_foreign_feature\n",
    "        n_events = len(events)\n",
    "        matrix = scipy.sparse.csr_matrix(\n",
    "            (data, (row_ind, col_ind)), shape=(n_events, n_features))\n",
    "        return matrix\n",
    "\n",
    "    def featurize(self, dataset, allow_new_features=False, verbose = False):\n",
    "        events, labels = [], []\n",
    "        n_events = len(dataset)\n",
    "        for c, (text, label) in enumerate(dataset):\n",
    "            if (verbose):\n",
    "                if c % 10000 == 0:\n",
    "                    print(\"{0:.0%}...\".format(c/n_events), end='')\n",
    "            labels.append(label)\n",
    "            events.append(set())\n",
    "            for function_name in Featurizer.feature_functions:\n",
    "                function = getattr(Featurizer, function_name)\n",
    "                for feature, value in function(text):\n",
    "                    if feature not in self.features:\n",
    "                        if not allow_new_features:\n",
    "                            continue\n",
    "                        self.features[feature] = self.next_feature_id\n",
    "                        self.features_by_id[self.next_feature_id] = feature\n",
    "                        self.next_feature_id += 1\n",
    "                    feat_id = self.features[feature]\n",
    "                    events[-1].add((feat_id, value))\n",
    "                    \n",
    "        #print(events[1])            \n",
    "        events_sparse = self.to_sparse(events)\n",
    "        #print(events_sparse[1])\n",
    "        labels_array = np.array(labels)\n",
    "        print('done!')\n",
    "\n",
    "        return events_sparse, labels_array\n",
    "\n",
    "    def get_feature_names(self):\n",
    "        return list([k for k, v in sorted(self.features.items(), key=lambda item: item[1])])\n",
    "    \n",
    "    def get_featurname_to_id_dict(self):\n",
    "        return self.features\n",
    "        \n",
    "    def get_id_to_featurname_dict(self):\n",
    "        return self.features_by_id\n",
    "        \n",
    "    #merge feature matrices of this featurizer and a different featurizer\n",
    "    def merge_feature_matrices(self, foreign_matrix, inherent_matrix):\n",
    "        return sp.hstack([foreign_matrix, inherent_matrix])\n",
    "    \n",
    "    def print_sample_with_feature_names(self, feature_matrix, sample_id):\n",
    "        sample = feature_matrix.getrow(sample_id)\n",
    "        nonzero_idxs = sample.nonzero()[1]\n",
    "        for idx in nonzero_idxs:\n",
    "            print(self.features_by_id[idx].rjust(30, ' ') , \":\" , sample.getcol(idx).toarray()[0][0])"
   ]
  },
  {
   "cell_type": "code",
   "execution_count": 3,
   "metadata": {},
   "outputs": [],
   "source": [
    "# function for plotting most important features for SVM (works only for linear kernel)\n",
    "def plot_coefficients(classifier, feature_names, top_features=20):\n",
    "    #feature_names*=3\n",
    "    coef = classifier.coef_.ravel()\n",
    "    top_positive_coefficients = np.argsort(-coef)[:top_features]\n",
    "    top_negative_coefficients = np.argsort(-coef)[-top_features:]\n",
    "    top_coefficients = np.hstack([top_positive_coefficients, top_negative_coefficients])\n",
    "    # create plot\n",
    "    plt.figure(figsize=(3, 10))\n",
    "    colors = ['green' if c < 0 else 'red' for c in coef[top_coefficients]]\n",
    "    plt.barh(np.arange(2 * top_features), coef[top_coefficients], color=colors)\n",
    "    feature_names = np.array(feature_names)\n",
    "    plt.yticks(np.arange(0,2 * top_features), feature_names[top_coefficients], ha='right')\n",
    "    plt.show()"
   ]
  },
  {
   "cell_type": "code",
   "execution_count": 4,
   "metadata": {},
   "outputs": [],
   "source": [
    "def evaluate(predictions, dev_labels, valid_df, model, featurizer):\n",
    "    stats_by_label = defaultdict(lambda: defaultdict(int))\n",
    "    if (isinstance(predictions, np.ndarray)):\n",
    "        predictions = predictions.tolist()\n",
    "    for i, gold in enumerate(dev_labels):\n",
    "        auto = predictions[i]\n",
    "        # print(auto, gold)\n",
    "        if auto == gold:\n",
    "            stats_by_label[auto]['tp'] += 1\n",
    "        else:\n",
    "            stats_by_label[auto]['fp'] += 1\n",
    "            stats_by_label[gold]['fn'] += 1\n",
    "\n",
    "    print(\"{:>8} {:>8} {:>8} {:>8} {:>8} {:>8}\".format(\n",
    "        'label', 'n_true', 'n_tagged', 'precision', 'recall', 'F-score'))\n",
    "    for label, stats in stats_by_label.items():\n",
    "        all_tagged = stats['tp'] + stats['fp']\n",
    "        stats['prec'] = stats['tp'] / all_tagged if all_tagged else 0\n",
    "        all_true = stats['tp'] + stats['fn']\n",
    "        stats['rec'] = stats['tp'] / all_true if all_true else 0\n",
    "        stats['f'] = (2 / ((1/stats['prec']) + (1/stats['rec']))\n",
    "                      if stats['prec'] > 0 and stats['rec'] > 0 else 0)\n",
    "\n",
    "        print(\"{:>8} {:>8} {:>8} {:>8.2f} {:>8.2f} {:>8.2f}\".format(\n",
    "            label, all_true, all_tagged, stats['prec'], stats['rec'],\n",
    "            stats['f']))\n",
    "\n",
    "    accuracy = (\n",
    "        sum([stats_by_label[label]['tp'] for label in stats_by_label]) /\n",
    "        len(predictions)) if predictions else 0\n",
    "\n",
    "    av_rec = sum([stats['rec'] for stats in stats_by_label.values()]) / 3\n",
    "    f_pn = (stats_by_label['positive']['f'] +\n",
    "            stats_by_label['negative']['f']) / 2\n",
    "\n",
    "    print()\n",
    "    print(\"{:>10} {:>.4f}\".format('Acc:', accuracy))\n",
    "    print(\"{:>10} {:>.4f}\".format('P/N av. F:', f_pn))\n",
    "    print(\"{:>10} {:>.4f}\".format('Av.rec:', av_rec))\n",
    "    print(\"{:>10} {:>.4f}\".format('AUC :', roc_auc_score(predictions, dev_labels)))\n",
    "    \n",
    "    incorrectly_classified_msk = [ x != y for (x,y) in zip(predictions, list(valid_df['target']))]\n",
    "    correctly_classified_msk = [not x for x in incorrectly_classified_msk]\n",
    "    incorrectly_classified = valid_df[incorrectly_classified_msk]\n",
    "    correctly_classified = valid_df[correctly_classified_msk]\n",
    "    \n",
    "    incorrectly_classified_ambig = incorrectly_classified.loc[(incorrectly_classified['toxicity'] > 0.4)\\\n",
    "                                                              & (incorrectly_classified['toxicity'] < 0.6)] \n",
    "    print(\"From\", len(incorrectly_classified), \"incorrectly classified,\", len(incorrectly_classified_ambig),\\\n",
    "          \"are ambiguous\", \"(\", len(incorrectly_classified_ambig) / len(incorrectly_classified) *100, \"%)\")\n",
    "    \n",
    "    incorrectly_classified.loc[(incorrectly_classified['toxicity'] <= 0.4)\\\n",
    "                                | (incorrectly_classified['toxicity'] >= 0.6)].head(100).to_csv(\"examples/incorrect.csv\")\n",
    "    correctly_classified.loc[(correctly_classified['toxicity'] <= 0.4)\\\n",
    "                                | (incorrectly_classified['toxicity'] >= 0.6)].head(100).to_csv(\"examples/correct.csv\")\n",
    "    print(\"saved (non-ambiguous) examples for correctly and incorrectly classified comments to /examples\" )\n",
    "    \n",
    "    plot_coefficients(model, featurizer.get_feature_names())"
   ]
  },
  {
   "cell_type": "markdown",
   "metadata": {},
   "source": [
    "Reading in data with pandas"
   ]
  },
  {
   "cell_type": "code",
   "execution_count": 5,
   "metadata": {},
   "outputs": [],
   "source": [
    "fields = ['comment_text', 'toxicity','target']\n",
    "\n",
    "#train_df = pd.read_csv(\"data/pre_processed/subsets/25_percent/spellcorrect_tresh10/train_lemma_nopunct_spellcorrect_thresh_10.csv\", usecols = fields)\n",
    "train_df = pd.read_csv(\"data/pre_processed/subsets/25_percent/train_lemma_nopunct_cleaned_sentencized.csv\", usecols = fields)\n",
    "train_df.dropna(inplace = True)\n",
    "#train_df = train_df[:100]\n",
    "#valid_df = pd.read_csv(\"data/pre_processed/subsets/25_percent/spellcorrect_thresh5/valid_lemma_nopunct_spellcorrect.csv\", usecols = fields)\n",
    "valid_df = pd.read_csv(\"data/pre_processed/subsets/25_percent/valid_lemma_nopunct_cleaned_sentencized.csv\", usecols = fields)\n",
    "valid_df.dropna(inplace = True)\n",
    "#valid_df = valid_df[:100]\n",
    "\n",
    "train = list(zip(list(train_df['comment_text']), list(train_df['target'])))\n",
    "valid = list(zip(list(valid_df['comment_text']), list(valid_df['target'])))"
   ]
  },
  {
   "cell_type": "code",
   "execution_count": 6,
   "metadata": {},
   "outputs": [],
   "source": [
    "def train_and_evaluate(train_events, train_labels, valid_events, valid_labels, valid_df, featurizer):\n",
    "    print('training...')\n",
    "    start = time.time()\n",
    "    model = svm.LinearSVC()\n",
    "    model.fit(train_events, train_labels)\n",
    "    end = time.time()\n",
    "    print(\"Training took:\", int((end-start)), \"sec\")\n",
    "\n",
    "    start = time.time()\n",
    "    predicted_labels = model.predict(valid_events)\n",
    "    end = time.time()\n",
    "    print(\"Predicting took:\", int((end-start)), \"sec\")\n",
    "\n",
    "    evaluate(predicted_labels, valid_labels, valid_df, model, featurizer)\n",
    "    return featurizer, train_events, train_labels, valid_events, valid_labels, predicted_labels, model"
   ]
  },
  {
   "cell_type": "code",
   "execution_count": 7,
   "metadata": {},
   "outputs": [],
   "source": [
    "def vectorize_train_evaluate(train, valid, valid_df, verbose = False):\n",
    "    print('featurizing train...')\n",
    "    featurizer = Featurizer()\n",
    "    start = time.time()\n",
    "    train_events, train_labels = featurizer.featurize(train, allow_new_features=True, verbose = verbose)\n",
    "    print('featurizing valid...')\n",
    "    valid_events, valid_labels = featurizer.featurize(valid, allow_new_features=False, verbose = verbose)\n",
    "    end = time.time()\n",
    "    print(\"Vectorizing took:\", int((end-start)), \"sec\")\n",
    "    \n",
    "    return train_and_evaluate(train_events, train_labels, valid_events, valid_labels, valid_df, featurizer)"
   ]
  },
  {
   "cell_type": "markdown",
   "metadata": {},
   "source": [
    "Testing performance for one-hot encoding word occurences for each comment"
   ]
  },
  {
   "cell_type": "code",
   "execution_count": 8,
   "metadata": {},
   "outputs": [
    {
     "name": "stdout",
     "output_type": "stream",
     "text": [
      "featurizing train...\n",
      "0%...3%...6%...8%...11%...14%...17%...19%...22%...25%...28%...30%...33%...36%...39%...42%...44%...47%...50%...53%...55%...58%...61%...64%...66%...69%...72%...75%...78%...80%...83%...86%...89%...91%...94%...97%...100%...done!\n",
      "featurizing valid...\n",
      "0%...11%...22%...33%...44%...55%...66%...78%...89%...100%...done!\n",
      "Vectorizing took: 241 sec\n",
      "training...\n"
     ]
    },
    {
     "name": "stderr",
     "output_type": "stream",
     "text": [
      "/home/krise/.local/lib/python3.8/site-packages/sklearn/svm/_base.py:976: ConvergenceWarning: Liblinear failed to converge, increase the number of iterations.\n",
      "  warnings.warn(\"Liblinear failed to converge, increase \"\n"
     ]
    },
    {
     "name": "stdout",
     "output_type": "stream",
     "text": [
      "Training took: 33 sec\n",
      "Predicting took: 0 sec\n",
      "   label   n_true n_tagged precision   recall  F-score\n",
      "       1    10925    10332     0.83     0.79     0.81\n",
      "       0    79345    79938     0.97     0.98     0.97\n",
      "\n",
      "      Acc: 0.9556\n",
      "P/N av. F: 0.0000\n",
      "   Av.rec: 0.5893\n",
      "     AUC : 0.9029\n",
      "From 4011 incorrectly classified, 1046 are ambiguous ( 26.078284717028172 %)\n",
      "saved (non-ambiguous) examples for correctly and incorrectly classified comments to /examples\n"
     ]
    },
    {
     "data": {
      "image/png": "[encoded data removed]",
      "text/plain": [
       "<Figure size 216x720 with 1 Axes>"
      ]
     },
     "metadata": {
      "needs_background": "light"
     },
     "output_type": "display_data"
    }
   ],
   "source": [
    "Featurizer.feature_functions = ['bag_of_words']\n",
    "\n",
    "res = vectorize_train_evaluate(train, valid, valid_df, verbose = True)\n",
    "pickle.dump(res, open(\"featurized_data/bow.p\", \"wb\" ))"
   ]
  },
  {
   "cell_type": "markdown",
   "metadata": {},
   "source": [
    "TFIDF should generally be a better vectorized representation of a comment than just word occurences, as it also takes word frequency in the comment relative to the rest of the corpus into account.\n",
    "\n",
    "Checking if TFIDF vectorization will improve performance:"
   ]
  },
  {
   "cell_type": "code",
   "execution_count": 9,
   "metadata": {},
   "outputs": [
    {
     "name": "stdout",
     "output_type": "stream",
     "text": [
      "training...\n",
      "Training took: 3 sec\n",
      "Predicting took: 0 sec\n",
      "   label   n_true n_tagged precision   recall  F-score\n",
      "       1    10925     9780     0.87     0.78     0.82\n",
      "       0    79345    80490     0.97     0.98     0.98\n",
      "\n",
      "      Acc: 0.9595\n",
      "P/N av. F: 0.0000\n",
      "   Av.rec: 0.5882\n",
      "     AUC : 0.9210\n",
      "From 3653 incorrectly classified, 1052 are ambiguous ( 28.798248015329865 %)\n",
      "saved (non-ambiguous) examples for correctly and incorrectly classified comments to /examples\n"
     ]
    },
    {
     "data": {
      "image/png": "[encoded data removed]",
      "text/plain": [
       "<Figure size 216x720 with 1 Axes>"
      ]
     },
     "metadata": {
      "needs_background": "light"
     },
     "output_type": "display_data"
    }
   ],
   "source": [
    "tfidf_vectorizer = TfidfVectorizer() #Using NTLKs tfidf vectorizer\n",
    "\n",
    "tfidf_train = tfidf_vectorizer.fit_transform(train_df['comment_text'])\n",
    "target_train = list(train_df[\"target\"])\n",
    "tfidf_valid = tfidf_vectorizer.transform(valid_df['comment_text'])\n",
    "valid_train = list(valid_df[\"target\"])\n",
    "\n",
    "res = train_and_evaluate(tfidf_train, target_train, tfidf_valid, valid_train, valid_df, tfidf_vectorizer)"
   ]
  },
  {
   "cell_type": "markdown",
   "metadata": {},
   "source": [
    "So far, the approaches were based on word occurences/counts and completely lost the information of in what sequence words appear. We can try using ngrams to retain some context."
   ]
  },
  {
   "cell_type": "code",
   "execution_count": 10,
   "metadata": {},
   "outputs": [
    {
     "name": "stdout",
     "output_type": "stream",
     "text": [
      "training...\n",
      "Training took: 5 sec\n",
      "Predicting took: 0 sec\n",
      "   label   n_true n_tagged precision   recall  F-score\n",
      "       1    10925     9831     0.88     0.79     0.83\n",
      "       0    79345    80439     0.97     0.99     0.98\n",
      "\n",
      "      Acc: 0.9616\n",
      "P/N av. F: 0.0000\n",
      "   Av.rec: 0.5921\n",
      "     AUC : 0.9255\n",
      "From 3466 incorrectly classified, 1040 are ambiguous ( 30.005770340450088 %)\n",
      "saved (non-ambiguous) examples for correctly and incorrectly classified comments to /examples\n"
     ]
    },
    {
     "data": {
      "image/png": "[encoded data removed]",
      "text/plain": [
       "<Figure size 216x720 with 1 Axes>"
      ]
     },
     "metadata": {
      "needs_background": "light"
     },
     "output_type": "display_data"
    }
   ],
   "source": [
    "#Testing showed that there seems to be no improvement when using more than bigrams\n",
    "tfidf_vectorizer = TfidfVectorizer(ngram_range = (1,2))\n",
    "\n",
    "tfidf_train = tfidf_vectorizer.fit_transform(train_df['comment_text'])\n",
    "target_train = list(train_df[\"target\"])\n",
    "tfidf_valid = tfidf_vectorizer.transform(valid_df['comment_text'])\n",
    "valid_train = list(valid_df[\"target\"])\n",
    "\n",
    "res = train_and_evaluate(tfidf_train, target_train, tfidf_valid, valid_train, valid_df, tfidf_vectorizer)"
   ]
  },
  {
   "cell_type": "code",
   "execution_count": 11,
   "metadata": {},
   "outputs": [
    {
     "data": {
      "text/plain": [
       "array([1])"
      ]
     },
     "execution_count": 11,
     "metadata": {},
     "output_type": "execute_result"
    }
   ],
   "source": []
  },
  {
   "cell_type": "code",
   "execution_count": 17,
   "metadata": {},
   "outputs": [
    {
     "name": "stdout",
     "output_type": "stream",
     "text": [
      "['pos_ngrams']\n"
     ]
    }
   ],
   "source": [
    "#Featurizer.feature_functions = ['pos_tags']\n",
    "Featurizer.feature_functions = ['pos_ngrams']\n",
    "print(Featurizer.feature_functions)"
   ]
  },
  {
   "cell_type": "code",
   "execution_count": 18,
   "metadata": {},
   "outputs": [
    {
     "name": "stdout",
     "output_type": "stream",
     "text": [
      "0%...3%...6%...8%...11%...14%...17%...19%...22%...25%...28%...30%...33%...36%...39%...42%...44%...47%...50%...53%...55%...58%...61%...64%...66%...69%...72%...75%...78%...80%...83%...86%...89%...91%...94%...97%...100%...done!\n",
      "0%...11%...22%...33%...44%...55%...66%...78%...89%...100%...done!\n",
      "training...\n"
     ]
    },
    {
     "name": "stderr",
     "output_type": "stream",
     "text": [
      "/home/krise/.local/lib/python3.8/site-packages/sklearn/svm/_base.py:976: ConvergenceWarning: Liblinear failed to converge, increase the number of iterations.\n",
      "  warnings.warn(\"Liblinear failed to converge, increase \"\n"
     ]
    },
    {
     "name": "stdout",
     "output_type": "stream",
     "text": [
      "Training took: 159 sec\n",
      "Predicting took: 0 sec\n",
      "   label   n_true n_tagged precision   recall  F-score\n",
      "       1    10925     9738     0.88     0.78     0.83\n",
      "       0    79345    80532     0.97     0.99     0.98\n",
      "\n",
      "      Acc: 0.9609\n",
      "P/N av. F: 0.0000\n",
      "   Av.rec: 0.5898\n",
      "     AUC : 0.9252\n",
      "From 3531 incorrectly classified, 1039 are ambiguous ( 29.425092041914475 %)\n",
      "saved (non-ambiguous) examples for correctly and incorrectly classified comments to /examples\n"
     ]
    },
    {
     "data": {
      "image/png": "[encoded data removed]",
      "text/plain": [
       "<Figure size 216x720 with 1 Axes>"
      ]
     },
     "metadata": {
      "needs_background": "light"
     },
     "output_type": "display_data"
    }
   ],
   "source": [
    "#create featurizer who's dictionary is based on the tfidf-vectorizers dictionary\n",
    "custom_featurizer = Featurizer(foreign_features = tfidf_vectorizer.vocabulary_.copy())\n",
    "train_events, train_labels = custom_featurizer.featurize(train, allow_new_features=True, verbose = True)\n",
    "valid_events, valid_labels = custom_featurizer.featurize(valid, allow_new_features=False, verbose = True)\n",
    "\n",
    "#combine outputs of tfidf and custom featurizer\n",
    "train_tfidf_custom = custom_featurizer.merge_feature_matrices(tfidf_train, train_events)\n",
    "valid_tfidf_custom = custom_featurizer.merge_feature_matrices(tfidf_valid, valid_events)\n",
    "\n",
    "res = train_and_evaluate(train_tfidf_custom, train_labels, valid_tfidf_custom, valid_labels, valid_df, custom_featurizer)"
   ]
  },
  {
   "cell_type": "code",
   "execution_count": 22,
   "metadata": {},
   "outputs": [
    {
     "name": "stdout",
     "output_type": "stream",
     "text": [
      "['He', 'ca', \"n't\", 'do', 'that', '!']\n"
     ]
    }
   ],
   "source": [
    "#custom_featurizer.print_sample_with_feature_names(train_tfidf_custom, 1)\n",
    "#featurizer, train_events, train_labels, valid_events, valid_labels, predicted_labels, model = res\n",
    "#te = tfidf_vectorizer.transform(['He be not stupid'])\n",
    "#model.predict(te)\n",
    "print(nltk.word_tokenize(\"He can't do that!\"))"
   ]
  },
  {
   "cell_type": "code",
   "execution_count": null,
   "metadata": {},
   "outputs": [],
   "source": []
  },
  {
   "cell_type": "code",
   "execution_count": null,
   "metadata": {},
   "outputs": [],
   "source": []
  }
 ],
 "metadata": {
  "kernelspec": {
   "display_name": "Python 3",
   "language": "python",
   "name": "python3"
  },
  "language_info": {
   "codemirror_mode": {
    "name": "ipython",
    "version": 3
   },
   "file_extension": ".py",
   "mimetype": "text/x-python",
   "name": "python",
   "nbconvert_exporter": "python",
   "pygments_lexer": "ipython3",
   "version": "3.8.5"
  }
 },
 "nbformat": 4,
 "nbformat_minor": 4
}
